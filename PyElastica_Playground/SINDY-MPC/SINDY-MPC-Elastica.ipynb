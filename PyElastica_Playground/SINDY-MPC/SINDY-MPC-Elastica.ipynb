{
 "cells": [
  {
   "cell_type": "code",
   "execution_count": 1,
   "metadata": {},
   "outputs": [],
   "source": [
    "%reload_ext autoreload \n",
    "%autoreload 2"
   ]
  },
  {
   "cell_type": "code",
   "execution_count": 2,
   "metadata": {},
   "outputs": [
    {
     "name": "stdout",
     "output_type": "stream",
     "text": [
      "['/Users/hole/Files/Qubot/Codes/Qubot_Elastica/Qubot_Elastica/PyElastica_Playground/SINDY-MPC', '/Users/hole/anaconda3/envs/Qubot/lib/python310.zip', '/Users/hole/anaconda3/envs/Qubot/lib/python3.10', '/Users/hole/anaconda3/envs/Qubot/lib/python3.10/lib-dynload', '', '/Users/hole/anaconda3/envs/Qubot/lib/python3.10/site-packages', '/Users/hole/Files/Qubot/Codes/Qubot_Elastica/Qubot_Elastica/PyElastica_Playground']\n",
      "pygame 2.5.2 (SDL 2.28.3, Python 3.10.13)\n",
      "Hello from the pygame community. https://www.pygame.org/contribute.html\n"
     ]
    },
    {
     "name": "stderr",
     "output_type": "stream",
     "text": [
      "100%|██████████| 357143/357143 [00:53<00:00, 6663.86it/s]\n"
     ]
    }
   ],
   "source": [
    "import numpy as np\n",
    "from M_Rod_Data_Generator import Data_Generator\n",
    "M_Rod_Data = Data_Generator(end_time = 50, amplitude_period=20, direction_period=7) #size (tsize,dim,n_elem)"
   ]
  },
  {
   "cell_type": "code",
   "execution_count": 3,
   "metadata": {},
   "outputs": [
    {
     "name": "stdout",
     "output_type": "stream",
     "text": [
      "6\n"
     ]
    }
   ],
   "source": [
    "tsize = len(M_Rod_Data['time'])\n",
    "n_dim,n_nodes = M_Rod_Data['velocity'][0].shape\n",
    "n_elem = n_nodes - 1\n",
    "for key,value in M_Rod_Data.items():\n",
    "    if key != 'time':\n",
    "        M_Rod_Data[key] = (np.array(value).reshape(tsize,-1)).T #Flatten the data into arrays\n",
    "print(len(M_Rod_Data))\n"
   ]
  },
  {
   "cell_type": "code",
   "execution_count": 4,
   "metadata": {},
   "outputs": [],
   "source": [
    "# print(len(M_Rod_Data))\n",
    "# print(M_Rod_Data['velocity'].shape, M_Rod_Data['position'].shape, M_Rod_Data['omega'].shape, M_Rod_Data['d'].shape, M_Rod_Data['B_field'].shape)\n",
    "\n",
    "# print(len(M_Rod_Data))"
   ]
  },
  {
   "cell_type": "code",
   "execution_count": 5,
   "metadata": {},
   "outputs": [
    {
     "name": "stdout",
     "output_type": "stream",
     "text": [
      "(846, 35715)\n"
     ]
    }
   ],
   "source": [
    "# reshape data into a numpy array\n",
    "tspan = np.array(M_Rod_Data.pop('time'))\n",
    "Data_array = np.concatenate(list(M_Rod_Data.values()),axis=0)\n",
    "print(Data_array.shape)\n",
    "np.save('Data_array.npy',Data_array)"
   ]
  },
  {
   "cell_type": "code",
   "execution_count": 4,
   "metadata": {},
   "outputs": [],
   "source": [
    "import numpy as np\n",
    "Data_array = np.load(\"Data_array.npy\")"
   ]
  },
  {
   "cell_type": "code",
   "execution_count": 6,
   "metadata": {},
   "outputs": [],
   "source": [
    "import scipy \n",
    "U, S, V = scipy.linalg.svd(Data_array)"
   ]
  },
  {
   "cell_type": "code",
   "execution_count": null,
   "metadata": {},
   "outputs": [],
   "source": []
  }
 ],
 "metadata": {
  "kernelspec": {
   "display_name": "Qubot",
   "language": "python",
   "name": "python3"
  },
  "language_info": {
   "codemirror_mode": {
    "name": "ipython",
    "version": 3
   },
   "file_extension": ".py",
   "mimetype": "text/x-python",
   "name": "python",
   "nbconvert_exporter": "python",
   "pygments_lexer": "ipython3",
   "version": "3.10.13"
  }
 },
 "nbformat": 4,
 "nbformat_minor": 2
}
