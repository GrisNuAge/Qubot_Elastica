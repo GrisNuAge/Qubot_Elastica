{
 "cells": [
  {
   "cell_type": "code",
   "execution_count": 1,
   "metadata": {},
   "outputs": [],
   "source": [
    "import numpy as np\n",
    "import matplotlib.pyplot as plt\n",
    "from IPython import display\n",
    "# Import modules\n",
    "from elastica.modules import BaseSystemCollection, Constraints, Forcing, Damping\n",
    "\n",
    "# Import Cosserat Rod Class\n",
    "from elastica.rod.cosserat_rod import CosseratRod\n",
    "\n",
    "# Import Damping Class\n",
    "from elastica.dissipation import AnalyticalLinearDamper\n",
    "\n",
    "# Import Boundary Condition Classes\n",
    "from elastica.boundary_conditions import OneEndFixedRod, FreeRod\n",
    "from elastica.external_forces import EndpointForces \n",
    "from elastica.external_forces import GravityForces\n",
    "\n",
    "# Import Timestepping Functions\n",
    "from elastica.timestepper.symplectic_steppers import PositionVerlet \n",
    "from elastica.timestepper import extend_stepper_interface\n",
    "from elastica.timestepper import integrate \n",
    "\n",
    "from analytical_result import analytical_result"
   ]
  },
  {
   "cell_type": "code",
   "execution_count": 103,
   "metadata": {},
   "outputs": [
    {
     "name": "stdout",
     "output_type": "stream",
     "text": [
      "One end of the rod is now fixed in place\n",
      "Forces added to the rod\n",
      "System finalized\n"
     ]
    },
    {
     "name": "stderr",
     "output_type": "stream",
     "text": [
      "  0%|          | 0/150000 [00:00<?, ?it/s]"
     ]
    },
    {
     "name": "stderr",
     "output_type": "stream",
     "text": [
      "100%|██████████| 150000/150000 [00:19<00:00, 7820.46it/s]\n"
     ]
    },
    {
     "name": "stdout",
     "output_type": "stream",
     "text": [
      "Final time of simulation is :  14.999999999971712\n",
      "One end of the rod is now fixed in place\n",
      "Forces added to the rod\n",
      "System finalized\n"
     ]
    },
    {
     "name": "stderr",
     "output_type": "stream",
     "text": [
      "100%|██████████| 150000/150000 [00:19<00:00, 7849.25it/s]\n"
     ]
    },
    {
     "name": "stdout",
     "output_type": "stream",
     "text": [
      "Final time of simulation is :  14.999999999971712\n",
      "One end of the rod is now fixed in place\n",
      "Forces added to the rod\n",
      "System finalized\n"
     ]
    },
    {
     "name": "stderr",
     "output_type": "stream",
     "text": [
      "100%|██████████| 150000/150000 [00:19<00:00, 7756.25it/s]\n"
     ]
    },
    {
     "name": "stdout",
     "output_type": "stream",
     "text": [
      "Final time of simulation is :  14.999999999971712\n",
      "One end of the rod is now fixed in place\n",
      "Forces added to the rod\n",
      "System finalized\n"
     ]
    },
    {
     "name": "stderr",
     "output_type": "stream",
     "text": [
      "100%|██████████| 150000/150000 [00:19<00:00, 7793.30it/s]\n"
     ]
    },
    {
     "name": "stdout",
     "output_type": "stream",
     "text": [
      "Final time of simulation is :  14.999999999971712\n",
      "One end of the rod is now fixed in place\n",
      "Forces added to the rod\n",
      "System finalized\n"
     ]
    },
    {
     "name": "stderr",
     "output_type": "stream",
     "text": [
      "100%|██████████| 150000/150000 [00:19<00:00, 7829.03it/s]\n"
     ]
    },
    {
     "name": "stdout",
     "output_type": "stream",
     "text": [
      "Final time of simulation is :  14.999999999971712\n",
      "One end of the rod is now fixed in place\n",
      "Forces added to the rod\n",
      "System finalized\n"
     ]
    },
    {
     "name": "stderr",
     "output_type": "stream",
     "text": [
      "100%|██████████| 150000/150000 [00:19<00:00, 7843.79it/s]\n"
     ]
    },
    {
     "name": "stdout",
     "output_type": "stream",
     "text": [
      "Final time of simulation is :  14.999999999971712\n",
      "One end of the rod is now fixed in place\n",
      "Forces added to the rod\n",
      "System finalized\n"
     ]
    },
    {
     "name": "stderr",
     "output_type": "stream",
     "text": [
      "100%|██████████| 150000/150000 [00:19<00:00, 7820.09it/s]\n"
     ]
    },
    {
     "name": "stdout",
     "output_type": "stream",
     "text": [
      "Final time of simulation is :  14.999999999971712\n",
      "One end of the rod is now fixed in place\n",
      "Forces added to the rod\n",
      "System finalized\n"
     ]
    },
    {
     "name": "stderr",
     "output_type": "stream",
     "text": [
      "100%|██████████| 150000/150000 [00:19<00:00, 7838.34it/s]\n"
     ]
    },
    {
     "name": "stdout",
     "output_type": "stream",
     "text": [
      "Final time of simulation is :  14.999999999971712\n",
      "One end of the rod is now fixed in place\n",
      "Forces added to the rod\n",
      "System finalized\n"
     ]
    },
    {
     "name": "stderr",
     "output_type": "stream",
     "text": [
      "100%|██████████| 150000/150000 [00:19<00:00, 7870.81it/s]\n"
     ]
    },
    {
     "name": "stdout",
     "output_type": "stream",
     "text": [
      "Final time of simulation is :  14.999999999971712\n",
      "One end of the rod is now fixed in place\n",
      "Forces added to the rod\n",
      "System finalized\n"
     ]
    },
    {
     "name": "stderr",
     "output_type": "stream",
     "text": [
      "100%|██████████| 150000/150000 [00:19<00:00, 7536.42it/s]\n"
     ]
    },
    {
     "name": "stdout",
     "output_type": "stream",
     "text": [
      "Final time of simulation is :  14.999999999971712\n",
      "One end of the rod is now fixed in place\n",
      "Forces added to the rod\n",
      "System finalized\n"
     ]
    },
    {
     "name": "stderr",
     "output_type": "stream",
     "text": [
      "100%|██████████| 150000/150000 [00:19<00:00, 7849.41it/s]\n"
     ]
    },
    {
     "name": "stdout",
     "output_type": "stream",
     "text": [
      "Final time of simulation is :  14.999999999971712\n",
      "One end of the rod is now fixed in place\n",
      "Forces added to the rod\n",
      "System finalized\n"
     ]
    },
    {
     "name": "stderr",
     "output_type": "stream",
     "text": [
      "100%|██████████| 150000/150000 [00:19<00:00, 7878.29it/s]\n"
     ]
    },
    {
     "name": "stdout",
     "output_type": "stream",
     "text": [
      "Final time of simulation is :  14.999999999971712\n",
      "One end of the rod is now fixed in place\n",
      "Forces added to the rod\n",
      "System finalized\n"
     ]
    },
    {
     "name": "stderr",
     "output_type": "stream",
     "text": [
      "100%|██████████| 150000/150000 [00:19<00:00, 7870.07it/s]\n"
     ]
    },
    {
     "name": "stdout",
     "output_type": "stream",
     "text": [
      "Final time of simulation is :  14.999999999971712\n",
      "One end of the rod is now fixed in place\n",
      "Forces added to the rod\n",
      "System finalized\n"
     ]
    },
    {
     "name": "stderr",
     "output_type": "stream",
     "text": [
      "100%|██████████| 150000/150000 [00:18<00:00, 7895.50it/s]\n"
     ]
    },
    {
     "name": "stdout",
     "output_type": "stream",
     "text": [
      "Final time of simulation is :  14.999999999971712\n",
      "One end of the rod is now fixed in place\n",
      "Forces added to the rod\n",
      "System finalized\n"
     ]
    },
    {
     "name": "stderr",
     "output_type": "stream",
     "text": [
      "100%|██████████| 150000/150000 [00:19<00:00, 7853.33it/s]"
     ]
    },
    {
     "name": "stdout",
     "output_type": "stream",
     "text": [
      "Final time of simulation is :  14.999999999971712\n"
     ]
    },
    {
     "name": "stderr",
     "output_type": "stream",
     "text": [
      "\n"
     ]
    }
   ],
   "source": [
    "%matplotlib inline\n",
    "loops = 15\n",
    "softer_angle = np.zeros(loops)\n",
    "stiffer_angle = np.zeros(loops)\n",
    "analytical_softer_angle = np.zeros(loops)\n",
    "analytical_stiffer_angle = np.zeros(loops)\n",
    "end_force_zs = np.concatenate((np.linspace(1e5,1.12e7,6,endpoint=False),np.linspace(1.12e7,1e8,loops-6)),axis=0)\n",
    "for i in range(loops):\n",
    "    class PendulumSimulator(BaseSystemCollection, Constraints, Forcing, Damping):\n",
    "        pass \n",
    "\n",
    "    Pendulum_Sim = PendulumSimulator()\n",
    "\n",
    "    # Create Rod \n",
    "    n_elem = 40\n",
    "    #--------------mGS Unit-----------------\n",
    "    # density = 1200* 1e-6 * 1000000 #mGS\n",
    "    # gravitational_acc = -9.80665e0 * 1e3 /1000000 #mGS\n",
    "    # base_length = 10 #mGS \n",
    "    # base_radius = 1 #mGS\n",
    "    # E = 1.2e9\n",
    "    #--------------CGS Unit------------------\n",
    "    # density = 2273* 1e-3   #g/cm^3\n",
    "    # gravitational_acc = -9.80665e0 * 1e2  #cm/s^2\n",
    "    # base_length = 0.3 # cm\n",
    "    # base_radius = 0.06 # cm\n",
    "    # E = 1.4e6* 10 # g/(cm*s)\n",
    "    #--------------SI Unit------------------\n",
    "    # density = 1200  # kg/m^3\n",
    "    # gravitational_acc = -9.80665e0   #m/s^2\n",
    "    # base_length = 10e-3 # m\n",
    "    # base_radius = 1e-3 # m\n",
    "    # E = 1.2e9 # kg/(m*s)\n",
    "    #--------------mmGS Unit------------------\n",
    "    density = 2.273  # mg/mm^3\n",
    "    gravitational_acc = -9.80665e3  #mm/s^2\n",
    "    base_length = 3 #mm \n",
    "    base_radius = 0.3 #mm\n",
    "    scale_E = 1e-5\n",
    "    E = 1.4e9 * scale_E # mg/(mm*s^2)\n",
    "\n",
    "\n",
    "    dl = base_length / n_elem \n",
    "    # dt = 0.002 * dl \n",
    "    dt = 1.0e-4\n",
    "    nu = 5 #damping constant\n",
    "    shear_modulus = E / (3.0)\n",
    "\n",
    "    start = np.array([0.0,0.0,0.0])\n",
    "    direction = np.array([0.0, 1.0, 0.0])\n",
    "    normal = np.array([1.0, 0.0, 0.0])\n",
    "    base_area = np.pi * base_radius**2\n",
    "    # base_area = base_radius*np.sqrt(3)/3\n",
    "\n",
    "    origin_force = np.array([0.0, 0.0, 0.0])\n",
    "    end_force = np.array([0.0, 0.0, -end_force_zs[i]*scale_E])\n",
    "    ramp_up_time = 0.15\n",
    "\n",
    "    softer_rod = CosseratRod.straight_rod(\n",
    "        n_elem,\n",
    "        start,\n",
    "        direction,\n",
    "        normal,\n",
    "        base_length,\n",
    "        base_radius,\n",
    "        density,\n",
    "        youngs_modulus=E,\n",
    "        shear_modulus = shear_modulus,\n",
    "    )\n",
    "\n",
    "    stiffer_rod = CosseratRod.straight_rod(\n",
    "        n_elem,\n",
    "        start,\n",
    "        direction,\n",
    "        normal,\n",
    "        base_length,\n",
    "        base_radius,\n",
    "        density,\n",
    "        youngs_modulus = E*10,\n",
    "        shear_modulus = shear_modulus*10,\n",
    "    )\n",
    "\n",
    "\n",
    "    Pendulum_Sim.append(softer_rod)\n",
    "    Pendulum_Sim.append(stiffer_rod)\n",
    "    Pendulum_Sim.dampen(softer_rod).using(\n",
    "        AnalyticalLinearDamper,\n",
    "        damping_constant = nu,\n",
    "        time_step = dt,\n",
    "    )\n",
    "    Pendulum_Sim.dampen(stiffer_rod).using(\n",
    "        AnalyticalLinearDamper,\n",
    "        damping_constant = nu,\n",
    "        time_step = dt,\n",
    "    )\n",
    "\n",
    "    Pendulum_Sim.constrain(softer_rod).using(\n",
    "        OneEndFixedRod,constrained_position_idx = (0,), constrained_director_idx= (0,)\n",
    "    )\n",
    "    Pendulum_Sim.constrain(stiffer_rod).using(\n",
    "        OneEndFixedRod,constrained_position_idx = (0,), constrained_director_idx= (0,)\n",
    "    )\n",
    "    print(\"One end of the rod is now fixed in place\")\n",
    "\n",
    "    # Pendulum_Sim.add_forcing_to(softer_rod).using(\n",
    "    #     GravityForces, acc_gravity = np.array([0.0,0.0,gravitational_acc]) \n",
    "    # )\n",
    "    # Pendulum_Sim.add_forcing_to(stiffer_rod).using(\n",
    "    #     GravityForces, acc_gravity = np.array([0.0,0.0,gravitational_acc]) \n",
    "    # )\n",
    "\n",
    "    Pendulum_Sim.add_forcing_to(softer_rod).using(\n",
    "        EndpointForces, origin_force, end_force, ramp_up_time = ramp_up_time\n",
    "    )\n",
    "    Pendulum_Sim.add_forcing_to(stiffer_rod).using(\n",
    "        EndpointForces, origin_force, end_force, ramp_up_time=ramp_up_time\n",
    "    )\n",
    "    print(\"Forces added to the rod\")\n",
    "\n",
    "    Pendulum_Sim.finalize()\n",
    "    print(\"System finalized\")\n",
    "\n",
    "    #----------------------------time integration----------------------------------\n",
    "    final_time = 15\n",
    "    total_steps = int(final_time / dt)\n",
    "    timestepper = PositionVerlet()\n",
    "    integrate(timestepper, Pendulum_Sim, final_time, total_steps)\n",
    "\n",
    "    softer_angle[i] = np.arctan(-softer_rod.position_collection[2,-1] / softer_rod.position_collection[1,-1]) / (2*np.pi) * 360\n",
    "    stiffer_angle[i] = np.arctan(-stiffer_rod.position_collection[2,-1] / stiffer_rod.position_collection[1,-1]) / (2*np.pi) * 360\n",
    "\n",
    "    analytical_softer_position = analytical_result(softer_rod, end_force, shearing=False, n_elem=500)\n",
    "    analytical_stiffer_position = analytical_result(stiffer_rod, end_force, shearing=False, n_elem=500)\n",
    "    analytical_softer_angle[i] = np.arctan(-analytical_softer_position[1][-1]/analytical_softer_position[0][-1])/ (2*np.pi) * 360\n",
    "    analytical_stiffer_angle[i] = np.arctan(-analytical_stiffer_position[1][-1]/analytical_stiffer_position[0][-1]) / (2*np.pi) * 360"
   ]
  },
  {
   "cell_type": "code",
   "execution_count": 104,
   "metadata": {},
   "outputs": [
    {
     "name": "stdout",
     "output_type": "stream",
     "text": [
      "[ 0.192992    3.75796019  7.29406249 10.77523391 14.17781208 17.48137947\n",
      " 20.66929238 36.91182298 48.36726401 56.29087556 61.89966692 66.00623927\n",
      " 69.11342168 71.53331845 73.46487224] [ 0.19031742  3.69972676  7.14870907 10.4871622  13.6767675  16.69260603\n",
      " 19.52218174 32.81281375 41.49407091 47.52002059 51.96516944 55.40234868\n",
      " 58.15691099 60.42632454 62.33740257]\n"
     ]
    }
   ],
   "source": [
    "print(analytical_stiffer_angle, stiffer_angle)"
   ]
  },
  {
   "cell_type": "code",
   "execution_count": 105,
   "metadata": {},
   "outputs": [
    {
     "name": "stdout",
     "output_type": "stream",
     "text": [
      "[ 1.92919792 33.29810682 52.00075205 62.28021901 68.40432592 72.38435437\n",
      " 75.15392482 82.41678829 84.92053482 86.18318408 86.94355003 87.45145722\n",
      " 87.81468498 88.08732498 88.29949948] [ 1.9016316  29.9931614  44.23626613 52.27588977 57.51407102 61.25617672\n",
      " 64.09825266 73.24453967 77.57823925 80.32005059 82.30405474 83.85393893\n",
      " 85.12421827 86.19785042 87.1213405 ]\n"
     ]
    }
   ],
   "source": [
    "print(analytical_softer_angle,softer_angle)"
   ]
  },
  {
   "cell_type": "code",
   "execution_count": 106,
   "metadata": {},
   "outputs": [
    {
     "name": "stdout",
     "output_type": "stream",
     "text": [
      "[ 100000. 2320000. 4540000. 6760000. 8980000.] [1.12e+07 2.23e+07 3.34e+07 4.45e+07 5.56e+07 6.67e+07 7.78e+07 8.89e+07\n",
      " 1.00e+08]\n",
      "[1.00e+05 1.12e+07 2.23e+07 3.34e+07 4.45e+07 5.56e+07 6.67e+07 7.78e+07\n",
      " 8.89e+07 1.00e+08]\n"
     ]
    }
   ],
   "source": [
    "print(np.linspace(1e5,1.12e7,5,endpoint=False), np.linspace(1.12e7,1e8,9))\n",
    "print(np.linspace(1e5,1e8,10))"
   ]
  },
  {
   "cell_type": "code",
   "execution_count": 107,
   "metadata": {},
   "outputs": [
    {
     "data": {
      "image/png": "[encoded data removed]",
      "text/plain": [
       "<Figure size 750x600 with 1 Axes>"
      ]
     },
     "metadata": {},
     "output_type": "display_data"
    }
   ],
   "source": [
    "%matplotlib inline\n",
    "# update the plot every 0.1 second\n",
    "fig = plt.figure(figsize=(5,4), frameon=True, dpi=150)\n",
    "ax = fig.add_subplot(111)\n",
    "ax.plot(\n",
    "    end_force_zs*1e-9,\n",
    "    softer_angle,\n",
    "    \"ro\",\n",
    "    label = \"softer rod\"\n",
    ")\n",
    "ax.plot(\n",
    "    end_force_zs*1e-9,\n",
    "    stiffer_angle,\n",
    "    \"bo\",\n",
    "    label = \"stiffer rod\"\n",
    ")\n",
    "ax.plot(\n",
    "    end_force_zs*1e-9,\n",
    "    analytical_softer_angle,\n",
    "    \"k-\",\n",
    "    label = \"analytical softer rod\"\n",
    ")\n",
    "ax.plot(\n",
    "    end_force_zs*1e-9,\n",
    "    analytical_stiffer_angle,\n",
    "    \"k--\",\n",
    "    label = \"analytical stiffer rod\"\n",
    ")\n",
    "ax.legend(prop={\"size\":12}, loc=\"lower right\")\n",
    "ax.set_ylabel(\"Banding Angle\", fontsize=12)\n",
    "ax.set_xlabel(\"End Force(N)\", fontsize=12)\n",
    "ax.set_title(\"Stress and Angle\")\n",
    "plt.savefig('Stress_Angle.jpg')\n",
    "plt.show()\n",
    "plt.close()"
   ]
  },
  {
   "cell_type": "code",
   "execution_count": null,
   "metadata": {},
   "outputs": [],
   "source": []
  }
 ],
 "metadata": {
  "kernelspec": {
   "display_name": "Qubot",
   "language": "python",
   "name": "python3"
  },
  "language_info": {
   "codemirror_mode": {
    "name": "ipython",
    "version": 3
   },
   "file_extension": ".py",
   "mimetype": "text/x-python",
   "name": "python",
   "nbconvert_exporter": "python",
   "pygments_lexer": "ipython3",
   "version": "3.10.13"
  },
  "orig_nbformat": 4
 },
 "nbformat": 4,
 "nbformat_minor": 2
}
