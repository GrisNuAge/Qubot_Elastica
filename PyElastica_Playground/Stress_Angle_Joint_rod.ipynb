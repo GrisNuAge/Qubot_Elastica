{
 "cells": [
  {
   "cell_type": "code",
   "execution_count": 1,
   "metadata": {},
   "outputs": [
    {
     "name": "stdout",
     "output_type": "stream",
     "text": [
      "pygame 2.5.2 (SDL 2.28.3, Python 3.10.13)\n",
      "Hello from the pygame community. https://www.pygame.org/contribute.html\n"
     ]
    }
   ],
   "source": [
    "import numpy as np\n",
    "import matplotlib.pyplot as plt\n",
    "from IPython.display import Video\n",
    "from elastica.modules import BaseSystemCollection, Constraints, Forcing, Damping \n",
    "\n",
    "from elastica.rod.cosserat_rod import CosseratRod \n",
    "from elastica.dissipation import AnalyticalLinearDamper\n",
    "from elastica.boundary_conditions import OneEndFixedRod\n",
    "from elastica.external_forces import EndpointForces, GravityForces \n",
    "from elastica import Connections\n",
    "from elastica import FixedJoint\n",
    "from elastica.callback_functions import CallBackBaseClass\n",
    "from elastica.timestepper import integrate, PositionVerlet\n",
    "from elastica import CallBacks\n",
    "\n",
    "from elastica.timestepper.symplectic_steppers import PositionVerlet\n",
    "from collections import defaultdict\n",
    "# from M_rod_packages.utils import ArbitarypointForces\n",
    "from M_rod_packages import *"
   ]
  },
  {
   "cell_type": "code",
   "execution_count": 2,
   "metadata": {},
   "outputs": [
    {
     "name": "stderr",
     "output_type": "stream",
     "text": [
      "100%|██████████| 20000/20000 [00:04<00:00, 4965.68it/s]"
     ]
    },
    {
     "name": "stdout",
     "output_type": "stream",
     "text": [
      "Final time of simulation is :  2.000000000002008\n"
     ]
    },
    {
     "name": "stderr",
     "output_type": "stream",
     "text": [
      "\n"
     ]
    },
    {
     "data": {
      "text/plain": [
       "2.000000000002008"
      ]
     },
     "execution_count": 2,
     "metadata": {},
     "output_type": "execute_result"
    }
   ],
   "source": [
    "# ---------------Simulator------------\n",
    "class JointRodSim(BaseSystemCollection, Constraints, Forcing, Damping, Connections, CallBacks):\n",
    "    pass \n",
    "\n",
    "Joint_rod_sim = JointRodSim()\n",
    "\n",
    "n_elem = 20\n",
    "#-------mmGS Unit---------\n",
    "density = 2.273 # mg/mm^3\n",
    "gravitational_acc = -9.80655e3 #mm/s\n",
    "softer_length = 3 #mm\n",
    "base_radius = 0.3 #mm\n",
    "ss_constant = 1 # stiffer_length / softer_length\n",
    "stiffer_length = ss_constant*softer_length\n",
    "scale_E = 1e-5\n",
    "E = 1.4e9*scale_E #mg / (mm*s^2)\n",
    "#-------------------------\n",
    "dl = softer_length/n_elem \n",
    "dt = 1e-4 \n",
    "nu = 5\n",
    "shear_modulus = E/3 \n",
    "#---------- rod definition------\n",
    "start1 = np.array([0.0,0.0,0.0])\n",
    "direction = np.array([0.0,1.0,0.0])\n",
    "start2 = start1 + direction * stiffer_length\n",
    "normal = np.array([1.0,0.0,0.0])\n",
    "\n",
    "\n",
    "stiffer_rod = CosseratRod.straight_rod(\n",
    "    n_elem, start1, direction, normal, stiffer_length, base_radius, density, youngs_modulus=10*E, shear_modulus= shear_modulus*10\n",
    ")\n",
    "softer_rod = CosseratRod.straight_rod(\n",
    "    n_elem, start2, direction, normal, softer_length, base_radius, density, youngs_modulus=E, shear_modulus=shear_modulus\n",
    ")\n",
    "\n",
    "Joint_rod_sim.append(stiffer_rod)\n",
    "Joint_rod_sim.append(softer_rod)\n",
    "#------------Damper setting------------\n",
    "Joint_rod_sim.dampen(stiffer_rod).using(\n",
    "    AnalyticalLinearDamper, damping_constant=nu, time_step = dt\n",
    ")\n",
    "Joint_rod_sim.dampen(softer_rod).using(\n",
    "    AnalyticalLinearDamper, damping_constant=nu, time_step = dt\n",
    ")\n",
    "\n",
    "#-----------Constrain----------------\n",
    "Joint_rod_sim.constrain(stiffer_rod).using(\n",
    "    OneEndFixedRod, constrained_position_idx=(0,),constrained_director_idx = (0,)\n",
    ")\n",
    "Joint_rod_sim.connect(\n",
    "    first_rod = stiffer_rod, second_rod = softer_rod, first_connect_idx= -1, second_connect_idx= 0\n",
    ").using(FixedJoint, k=5e6, nu=0.0, kt=1e2, nut=0)\n",
    "\n",
    "#---------Force--------\n",
    "origin_force = np.array([0.0,0.0,0.0])\n",
    "end_force = np.array([0.0,0.0,-1e7*scale_E])\n",
    "# Joint_rod_sim.add_forcing_to(softer_rod).using(EndpointForces, origin_force, end_force, ramp_up_time = 0.15)\n",
    "Joint_rod_sim.add_forcing_to(softer_rod).using(ArbitarypointForces, np.array([-1e7*scale_E]),np.array([n_elem-1]),ramp_up_time=0.15)\n",
    "#-------callback function----\n",
    "class JointRodCallBack(CallBackBaseClass):\n",
    "    def __init__(self, step_skip:int, callback_params:dict):\n",
    "        super().__init__()\n",
    "        # CallBackBaseClass.__init__(self)\n",
    "        self.every = step_skip\n",
    "        self.callback_params = callback_params\n",
    "    def make_callback(self, system, time, current_step: int):\n",
    "        if current_step%self.every == 0:\n",
    "            self.callback_params[\"time\"].append(time)\n",
    "            self.callback_params[\"position\"].append(system.position_collection.copy())\n",
    "            self.callback_params[\"velocity\"].append(system.velocity_collection.copy())\n",
    "\n",
    "            return\n",
    "pp_list_softer = defaultdict(list)\n",
    "pp_list_stiffer = defaultdict(list)\n",
    "Joint_rod_sim.collect_diagnostics(softer_rod).using(\n",
    "    JointRodCallBack, step_skip = 100, callback_params= pp_list_softer\n",
    ")\n",
    "Joint_rod_sim.collect_diagnostics(stiffer_rod).using(\n",
    "    JointRodCallBack, step_skip = 100, callback_params = pp_list_stiffer\n",
    ")\n",
    "Joint_rod_sim.finalize()\n",
    "#-----------time integration-------------\n",
    "timestepper = PositionVerlet()\n",
    "final_time = 2.0 \n",
    "total_steps = int(final_time/ dt)\n",
    "integrate(timestepper, Joint_rod_sim, final_time, total_steps)"
   ]
  },
  {
   "cell_type": "code",
   "execution_count": 11,
   "metadata": {},
   "outputs": [
    {
     "name": "stdout",
     "output_type": "stream",
     "text": [
      "Creating 2D video -- this can take a few minutes--------------------\n"
     ]
    },
    {
     "data": {
      "text/html": [
       "<video src=\"Joint_Rod.mp4\" controls  >\n",
       "      Your browser does not support the <code>video</code> element.\n",
       "    </video>"
      ],
      "text/plain": [
       "<IPython.core.display.Video object>"
      ]
     },
     "execution_count": 11,
     "metadata": {},
     "output_type": "execute_result"
    }
   ],
   "source": [
    "%reload_ext autoreload\n",
    "%autoreload 2\n",
    "from Plot_Method import plot_video_2D\n",
    "import os \n",
    "# current_dir = os.path.dirname(__name__) # for py files\n",
    "current_dir = os.path.abspath(\"\") # for ipynb files\n",
    "filename = \"Joint_Rod.mp4\"\n",
    "x_lim = np.array([-0.1,6.1])\n",
    "y_lim = np.array([-6.1,0.1])\n",
    "plot_video_2D(normal, x_lim, y_lim, pp_list_stiffer, pp_list_softer,video_name=current_dir + '/' +filename, fps=10)\n",
    "Video(filename)"
   ]
  },
  {
   "cell_type": "code",
   "execution_count": null,
   "metadata": {},
   "outputs": [],
   "source": []
  }
 ],
 "metadata": {
  "kernelspec": {
   "display_name": "Qubot",
   "language": "python",
   "name": "python3"
  },
  "language_info": {
   "codemirror_mode": {
    "name": "ipython",
    "version": 3
   },
   "file_extension": ".py",
   "mimetype": "text/x-python",
   "name": "python",
   "nbconvert_exporter": "python",
   "pygments_lexer": "ipython3",
   "version": "3.10.13"
  },
  "orig_nbformat": 4
 },
 "nbformat": 4,
 "nbformat_minor": 2
}
