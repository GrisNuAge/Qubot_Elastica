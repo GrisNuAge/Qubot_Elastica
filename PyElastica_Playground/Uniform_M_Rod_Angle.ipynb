{
 "cells": [
  {
   "cell_type": "code",
   "execution_count": null,
   "metadata": {},
   "outputs": [],
   "source": [
    "import numpy as np\n",
    "import matplotlib.pyplot as plt\n",
    "from IPython.display import Video\n",
    "from elastica.modules import BaseSystemCollection, Constraints, Forcing, Damping \n",
    "\n",
    "from elastica.rod.cosserat_rod import CosseratRod \n",
    "from elastica.dissipation import AnalyticalLinearDamper\n",
    "from elastica.boundary_conditions import OneEndFixedBC\n",
    "from elastica.external_forces import EndpointForces, GravityForces \n",
    "from elastica import Connections\n",
    "from elastica import FixedJoint\n",
    "from elastica.callback_functions import CallBackBaseClass\n",
    "from elastica.timestepper import integrate, PositionVerlet\n",
    "from elastica import CallBacks\n",
    "\n",
    "from elastica.timestepper.symplectic_steppers import PositionVerlet\n",
    "from collections import defaultdict\n",
    "from magneto_pyelastica import *"
   ]
  },
  {
   "cell_type": "code",
   "execution_count": null,
   "metadata": {},
   "outputs": [],
   "source": [
    "#------simulator-------\n",
    "class UniformMRodSimulator(BaseSystemCollection, Constraints, Forcing, Damping, CallBacks):\n",
    "    pass\n",
    "Uniform_M_Rod_Sim = UniformMRodSimulator()\n",
    "\n",
    "#------mmGS unit-------\n",
    "density = 2.273  #mg/mm^3 \n",
    "base_length = 3 #mm \n",
    "base_radius = 0.3 #mm \n",
    "scale_E = 1e-3 #scale dowing Young's modulus\n",
    "E = 1.4e9 * scale_E #Young's modulus\n",
    "shear_modulus = E/3 * scale_E # shear modulus\n",
    "\n",
    "\n",
    "dt = 1e-4 # time step\n",
    "nu = 5\n",
    "endtime = 5\n",
    "\n",
    "#------rod definition----\n",
    "start = np.zeros((3,))\n",
    "direction = np.array([0.0,1.0,0.0])\n",
    "normal = np.array([1.0,0.0,0.0])\n",
    "\n",
    "#------constraints-------\n",
    "\n",
    "#------forcing-----------\n",
    "\n",
    "#------damping-----------\n",
    "\n",
    "#-----callback-----------\n",
    "\n",
    "#------time integration---\n",
    "\n",
    "\n"
   ]
  }
 ],
 "metadata": {
  "kernelspec": {
   "display_name": "Qubot",
   "language": "python",
   "name": "python3"
  },
  "language_info": {
   "name": "python",
   "version": "3.10.13"
  }
 },
 "nbformat": 4,
 "nbformat_minor": 2
}
