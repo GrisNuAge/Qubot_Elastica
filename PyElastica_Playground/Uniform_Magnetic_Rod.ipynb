{
 "cells": [
  {
   "cell_type": "code",
   "execution_count": 29,
   "metadata": {},
   "outputs": [],
   "source": [
    "import numpy as np\n",
    "import matplotlib.pyplot as plt\n",
    "from IPython.display import Video\n",
    "from elastica.modules import BaseSystemCollection, Constraints, Forcing, Damping \n",
    "\n",
    "from elastica.rod.cosserat_rod import CosseratRod \n",
    "from elastica.dissipation import AnalyticalLinearDamper\n",
    "from elastica.boundary_conditions import OneEndFixedBC\n",
    "from elastica.external_forces import EndpointForces, GravityForces \n",
    "from elastica import Connections\n",
    "from elastica import FixedJoint\n",
    "from elastica.callback_functions import CallBackBaseClass\n",
    "from elastica.timestepper import integrate, PositionVerlet\n",
    "from elastica import CallBacks\n",
    "\n",
    "from elastica.timestepper.symplectic_steppers import PositionVerlet\n",
    "from collections import defaultdict\n",
    "from magneto_pyelastica import *"
   ]
  },
  {
   "cell_type": "code",
   "execution_count": 150,
   "metadata": {},
   "outputs": [
    {
     "name": "stderr",
     "output_type": "stream",
     "text": [
      "100%|██████████| 50000/50000 [00:06<00:00, 7967.81it/s]"
     ]
    },
    {
     "name": "stdout",
     "output_type": "stream",
     "text": [
      "Final time of simulation is :  4.999999999995016\n"
     ]
    },
    {
     "name": "stderr",
     "output_type": "stream",
     "text": [
      "\n"
     ]
    },
    {
     "data": {
      "text/plain": [
       "4.999999999995016"
      ]
     },
     "execution_count": 150,
     "metadata": {},
     "output_type": "execute_result"
    }
   ],
   "source": [
    "#--------simulator----------\n",
    "class UnitMagneticRodSimulator(BaseSystemCollection, Constraints, Forcing, Damping, Connections,CallBacks):\n",
    "    pass\n",
    "Uniform_M_Sim = UnitMagneticRodSimulator()\n",
    "#--------mmGS unit----------\n",
    "density = 2.273  #mg/mm^3 \n",
    "base_length = 3 #mm \n",
    "base_radius = 0.3 #mm \n",
    "scale_E = 1e-3 #scale dowing Young's modulus\n",
    "E = 1.4e9 * scale_E #Young's modulus\n",
    "shear_modulus = E/3 * scale_E # shear modulus\n",
    "\n",
    "\n",
    "dt = 1e-4 # time step\n",
    "nu = 5\n",
    "endtime = 5\n",
    "\n",
    "#--------rod definition-------\n",
    "n_elem = 20\n",
    "start = np.array([0.0,0.0,0.0])\n",
    "direction = np.array([0.0,1.0,0.0])\n",
    "normal = np.array([1.0,0.0,0.0])\n",
    "M_rod = CosseratRod.straight_rod(n_elem, start, direction, normal, base_length, base_radius, density, youngs_modulus=E, shear_modulus=shear_modulus)\n",
    "\n",
    "Uniform_M_Sim.append(M_rod)\n",
    "#--------magnetic properties-----\n",
    "magnetization_density = 1.28e5 * 1e-3 #A/mm\n",
    "magnetic_field_angle = np.pi/2\n",
    "magnetic_field = 90e-3*1e6*scale_E # T, mg/(s^2*A)\n",
    "#------test----------\n",
    "# magnetization_density = 1e5\n",
    "# magnetic_field_angle = np.pi/2\n",
    "# magnetic_field = 10e-2\n",
    "\n",
    "magnetization_direction = np.ones((n_elem)) * direction.reshape(3, 1)\n",
    "\n",
    "#------set the constant magnetic field object-----\n",
    "magnetic_field_amplitude = magnetic_field* np.array([0.0, np.cos(magnetic_field_angle), np.sin(magnetic_field_angle)])\n",
    "magnetic_field_object = ConstantMagneticField(\n",
    "    magnetic_field_amplitude, ramp_interval = 0.5, start_time = 0.5, end_time = endtime\n",
    ")\n",
    "\n",
    "#--------constrain----------\n",
    "Uniform_M_Sim.constrain(M_rod).using(\n",
    "    OneEndFixedBC, constrained_position_idx=(0,), constrained_director_idx=(0,)\n",
    ")\n",
    "\n",
    "#--------damping------------\n",
    "Uniform_M_Sim.dampen(M_rod).using(\n",
    "    AnalyticalLinearDamper, damping_constant = nu, time_step = dt\n",
    ")\n",
    "#--------force--------------\n",
    "Uniform_M_Sim.add_forcing_to(M_rod).using(\n",
    "    MagneticForces,\n",
    "    external_magnetic_field = magnetic_field_object,\n",
    "    magnetization_density = magnetization_density,\n",
    "    magnetization_direction = magnetization_direction,\n",
    "    rod_volume = M_rod.volume,\n",
    "    rod_director_collection = M_rod.director_collection.copy(),\n",
    ")\n",
    "#------callback function------\n",
    "class MagneticRodCallBack(CallBackBaseClass):\n",
    "    def __init__(self, step_skip:int, callback_params:dict):\n",
    "        super().__init__()\n",
    "        self.step_skip = step_skip\n",
    "        self.callback_params = callback_params\n",
    "    \n",
    "    def make_callback(self, system, time, current_step: int):\n",
    "        if current_step % self.step_skip == 0:\n",
    "            self.callback_params[\"time\"].append(time)\n",
    "            self.callback_params[\"position\"].append(system.position_collection.copy())\n",
    "            self.callback_params[\"velocity\"].append(system.velocity_collection.copy())\n",
    "            return\n",
    "MR_list = defaultdict(list)\n",
    "Uniform_M_Sim.collect_diagnostics(M_rod).using(\n",
    "    MagneticRodCallBack, step_skip = 100, callback_params = MR_list\n",
    ")\n",
    "\n",
    "Uniform_M_Sim.finalize()\n",
    "#--------time integration-----\n",
    "timestepper = PositionVerlet()\n",
    "final_time =endtime\n",
    "total_steps = int(final_time / dt)\n",
    "integrate(timestepper, Uniform_M_Sim, final_time, total_steps)\n"
   ]
  },
  {
   "cell_type": "code",
   "execution_count": 153,
   "metadata": {},
   "outputs": [
    {
     "name": "stdout",
     "output_type": "stream",
     "text": [
      "Creating 2D video -- this can take a few minutes--------------------\n"
     ]
    },
    {
     "data": {
      "text/html": [
       "<video src=\"/Users/hole/文档/Qubot/Codes/Qubot_Elastica/Qubot_Elastica/PyElastica_Playground/Uniform_Magnetic_Rod.mp4\" controls  >\n",
       "      Your browser does not support the <code>video</code> element.\n",
       "    </video>"
      ],
      "text/plain": [
       "<IPython.core.display.Video object>"
      ]
     },
     "execution_count": 153,
     "metadata": {},
     "output_type": "execute_result"
    }
   ],
   "source": [
    "import os\n",
    "from IPython.display import Video\n",
    "from Plot_Method import plot_video_2D\n",
    "current_dir = os.path.abspath(\"\")\n",
    "filename = current_dir + '/'+\"Uniform_Magnetic_Rod.mp4\"\n",
    "x_lim = np.array([-1, 6.1])\n",
    "y_lim = np.array([-3,3])\n",
    "plot_video_2D(normal, x_lim, y_lim, MR_list, video_name=filename, fps=10)\n",
    "Video(filename)\n"
   ]
  },
  {
   "cell_type": "code",
   "execution_count": null,
   "metadata": {},
   "outputs": [],
   "source": []
  }
 ],
 "metadata": {
  "kernelspec": {
   "display_name": "Qubot",
   "language": "python",
   "name": "python3"
  },
  "language_info": {
   "codemirror_mode": {
    "name": "ipython",
    "version": 3
   },
   "file_extension": ".py",
   "mimetype": "text/x-python",
   "name": "python",
   "nbconvert_exporter": "python",
   "pygments_lexer": "ipython3",
   "version": "3.10.13"
  }
 },
 "nbformat": 4,
 "nbformat_minor": 2
}
